{
 "cells": [
  {
   "attachments": {},
   "cell_type": "markdown",
   "metadata": {},
   "source": [
    "# Breast Cancer Classification using Fine Needle Aspiration\n",
    "\n",
    "#### Research Background:\n",
    "> ### Prominent types of tumors\n",
    "> - **Benign Tumors**\n",
    ">\n",
    ">   - Non-cancerous\n",
    ">\n",
    ">   - Capsulated\n",
    ">\n",
    ">   - Non-invasive\n",
    ">\n",
    ">   - Mild growth\n",
    ">\n",
    ">   - Non-metastasizing\n",
    ">\n",
    ">   - Deviant cells \n",
    ">\n",
    "> - **Malignant tumors**\n",
    ">\n",
    ">   - Cancerous\n",
    ">\n",
    ">   - Non-capsulated\n",
    ">\n",
    ">   - Rapid growth\n",
    ">\n",
    ">   - Metastasizing\n",
    ">\n",
    ">   - Deviant cells(large, dark nuclei, abnormal shape)\n",
    ">\n",
    "***\n",
    "This is where fine needle aspiration comes in.\n",
    "\n",
    "***The biopsy procedure can allow us to help make a diagnosis or rule out conditions such as cancer.***\n",
    "***\n",
    "> ### Concerning the implemented dataset:\n",
    "> - 0 represents a malignant tumor\n",
    ">\n",
    "> - 1 represents a benign tumor\n",
    "> ***\n",
    "> ### TODOS\n",
    "> - Read dataset\n",
    ">\n",
    "> - Preprocessing\n",
    ">\n",
    "> - Train-test split\n",
    ">\n",
    "> - Logistic regression model \n",
    ">\n",
    "> - Validate accuracy\n",
    ">\n",
    "> - Implement a Predictive System\n",
    "***\n",
    "# Model Implementation\n",
    "***\n"
   ]
  },
  {
   "attachments": {},
   "cell_type": "markdown",
   "metadata": {},
   "source": [
    "### Dependencies"
   ]
  },
  {
   "cell_type": "code",
   "execution_count": 49,
   "metadata": {},
   "outputs": [],
   "source": [
    "# for arrays\n",
    "import numpy as np\n",
    "# for dataframe construction\n",
    "import pandas as pd\n",
    "# for data loading\n",
    "import sklearn.datasets\n",
    "# for df split\n",
    "from sklearn.model_selection import train_test_split\n",
    "# for model init\n",
    "from sklearn.linear_model import LogisticRegression\n",
    "# for accuracy check\n",
    "from sklearn.metrics import accuracy_score"
   ]
  },
  {
   "attachments": {},
   "cell_type": "markdown",
   "metadata": {},
   "source": [
    "### Dataframe Construction"
   ]
  },
  {
   "cell_type": "code",
   "execution_count": 29,
   "metadata": {},
   "outputs": [],
   "source": [
    "# init data from sklearn(Can also be .read_csv from Kaggle found as 'Breast Cancer Wisconsin (Diagnostic) Data Set')\n",
    "# returns as an array\n",
    "breast_cancer_dataset = sklearn.datasets.load_breast_cancer()\n",
    "\n",
    "# make into df since the above init did not automatically create one like a .read_csv\n",
    "df = pd.DataFrame(breast_cancer_dataset.data, columns = breast_cancer_dataset.feature_names)\n",
    "\n",
    "# make sure df contains desired data (n=5 by default)\n",
    "# df.head()\n",
    "# df.tail\n",
    "\n",
    "# add 'diagnosis' column to df\n",
    "# this is because the above essentially only added inputs to df ('data' in breast_cancer_dataset); thus outputs need to be added ('target' in breast_cancer_dataset)\n",
    "# here we set the column parameter as 'diagnosis'\n",
    "df['diagnosis'] = breast_cancer_dataset.target\n",
    "\n",
    "#df ready!"
   ]
  },
  {
   "attachments": {},
   "cell_type": "markdown",
   "metadata": {},
   "source": [
    "### Preprocessing"
   ]
  },
  {
   "cell_type": "code",
   "execution_count": null,
   "metadata": {},
   "outputs": [],
   "source": [
    "# useful methods to analyze data\n",
    "\n",
    "# returns (rows,columns)\n",
    "df.shape\n",
    "\n",
    "# returns columns, any null info, and respective data type \n",
    "# if missing can use techniques like imputation\n",
    "df.info()\n",
    "\n",
    "# check specifically for missing values\n",
    "df.isnull().sum()\n",
    "\n",
    "# returns statistical values \n",
    "df.describe()\n",
    "\n",
    "# returns the distribution of 'target' or in our case the 'diagnosis' column\n",
    "df['diagnosis'].value_counts()\n",
    "\n",
    "# splits columns by 'target' values and returns the various means\n",
    "df.groupby('diagnosis').mean()"
   ]
  },
  {
   "attachments": {},
   "cell_type": "markdown",
   "metadata": {},
   "source": [
    "### Train-Test Split"
   ]
  },
  {
   "cell_type": "code",
   "execution_count": 44,
   "metadata": {},
   "outputs": [
    {
     "name": "stdout",
     "output_type": "stream",
     "text": [
      "(569, 30) (455, 30) (114, 30)\n"
     ]
    }
   ],
   "source": [
    "# separating the features(input) and target(output)\n",
    "\n",
    "# note: row axis value is 0; whereas column axis value is 1\n",
    "X = df.drop(columns='diagnosis', axis=1)\n",
    "y = df['diagnosis']\n",
    "X,y\n",
    "\n",
    "# here we use the use the prior import to split the data to train and test tests\n",
    "\n",
    "# note: random_state can be used to split data identically(same 20%)\n",
    "X_train, X_test, y_train, y_test = train_test_split(X, y, test_size=0.2)\n",
    "\n",
    "# now we see how the data has been split from the original(X) into (X_train,X_test)\n",
    "print(X.shape, X_train.shape, X_test.shape)"
   ]
  },
  {
   "attachments": {},
   "cell_type": "markdown",
   "metadata": {},
   "source": [
    "### Model Training (Logistic Regression)"
   ]
  },
  {
   "cell_type": "code",
   "execution_count": null,
   "metadata": {},
   "outputs": [],
   "source": [
    "# we implement logistic regression which is especially useful for binary classification \n",
    "\n",
    "# instance of LogisticRegression()\n",
    "model = LogisticRegression()\n",
    "\n",
    "# training model using training data\n",
    "model.fit(X_train, y_train)\n"
   ]
  },
  {
   "attachments": {},
   "cell_type": "markdown",
   "metadata": {},
   "source": [
    "### Accuracy Check"
   ]
  },
  {
   "cell_type": "code",
   "execution_count": 63,
   "metadata": {},
   "outputs": [
    {
     "data": {
      "text/plain": [
       "0.956140350877193"
      ]
     },
     "execution_count": 63,
     "metadata": {},
     "output_type": "execute_result"
    }
   ],
   "source": [
    "# accuracy on TRAINING data\n",
    "X_train_prediction = model.predict(X_train)\n",
    "# compares our predictions which are stored in 'X_train_prediction' with 'y_train'(actual output) via the 'accuracy_score' import\n",
    "training_data_accuracy = accuracy_score(y_train, X_train_prediction)\n",
    "training_data_accuracy\n",
    "\n",
    "# accuracy on TEST data\n",
    "X_test_prediction = model.predict(X_test)\n",
    "# compares our predictions which are stored in 'X_train_prediction' with 'y_train'(actual output) via the 'accuracy_score' import\n",
    "training_data_accuracy = accuracy_score(y_test, X_test_prediction)\n",
    "training_data_accuracy\n",
    "\n",
    "# model overfitting is the model trying to learn more from the data\n",
    "# It is commonly present if TRAINING data accuracy is high compared to TEST data accuracy "
   ]
  },
  {
   "attachments": {},
   "cell_type": "markdown",
   "metadata": {},
   "source": [
    "### Predictive System Construction"
   ]
  },
  {
   "cell_type": "code",
   "execution_count": null,
   "metadata": {},
   "outputs": [],
   "source": [
    "# here we use the model to preduct wether a tumor is benign or malignant\n",
    "\n",
    "# input_data is set to an example below\n",
    "input_data = (13.54,14.36,87.46,566.3,0.09779,0.08129,0.06664,0.04781,0.1885,0.05766,0.2699,0.7886,2.058,23.56,0.008462,0.0146,0.02387,0.01315,0.0198,0.0023,15.11,19.26,99.7,711.2,0.144,0.1773,0.239,0.1288,0.2977,0.07259)\n",
    "\n",
    "# change the input data to a numpy array as we cannot reshape a tuple\n",
    "input_np = np.asarray(input_data)\n",
    "\n",
    "# reshape the numpy array because we are predicting for one data point\n",
    "reshaped = input_np.reshape(1,-1)\n",
    "\n",
    "prediction = model.predict(reshaped)\n",
    "print(prediction)\n",
    "\n",
    "if (prediction == 0):\n",
    "  print('The Breast cancer is Malignant')\n",
    "else:\n",
    "  print('The Breast Cancer is Benign')\n"
   ]
  },
  {
   "attachments": {},
   "cell_type": "markdown",
   "metadata": {},
   "source": [
    "***\n",
    "# Conclusion\n",
    "\n",
    "> It is clear that machine learning can have revolutionary effects in healthcare. This project has made that fact all the more apparent. "
   ]
  }
 ],
 "metadata": {
  "kernelspec": {
   "display_name": "base",
   "language": "python",
   "name": "python3"
  },
  "language_info": {
   "codemirror_mode": {
    "name": "ipython",
    "version": 3
   },
   "file_extension": ".py",
   "mimetype": "text/x-python",
   "name": "python",
   "nbconvert_exporter": "python",
   "pygments_lexer": "ipython3",
   "version": "3.9.15"
  },
  "orig_nbformat": 4,
  "vscode": {
   "interpreter": {
    "hash": "9866e9086065cd29b29e156755c5205638517ac93a305727ff25729ade5ca316"
   }
  }
 },
 "nbformat": 4,
 "nbformat_minor": 2
}
